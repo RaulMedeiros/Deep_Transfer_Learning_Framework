{
  "nbformat": 4,
  "nbformat_minor": 0,
  "metadata": {
    "colab": {
      "name": "Transfer_Learning_Framework.ipynb",
      "version": "0.3.2",
      "provenance": [],
      "collapsed_sections": [],
      "include_colab_link": true
    },
    "kernelspec": {
      "name": "python3",
      "display_name": "Python 3"
    },
    "accelerator": "GPU"
  },
  "cells": [
    {
      "cell_type": "markdown",
      "metadata": {
        "id": "view-in-github",
        "colab_type": "text"
      },
      "source": [
        "[View in Colaboratory](https://colab.research.google.com/github/RaulMedeiros/Deep_Transfer_Learning_Framework/blob/master/Deep_Transfer_Learning_Framework.ipynb)"
      ]
    },
    {
      "metadata": {
        "id": "qv9WnMxGrE_k",
        "colab_type": "text"
      },
      "cell_type": "markdown",
      "source": [
        "**CONFIG DEEP FEATURE EXTRACTOR**"
      ]
    },
    {
      "metadata": {
        "id": "nNc-Fk88oRVK",
        "colab_type": "code",
        "colab": {}
      },
      "cell_type": "code",
      "source": [
        "src_folder_id = '1xf3Qt48-btHzDw4vB4nlQOect0JQaytm'\n",
        "out_folder_id = '1dQHvtUYX_HFXCH6lxSaYfN36_Vztncpv'\n",
        "\n",
        "#Especifique a topologia a ser utilizada.\n",
        "model_name_list = ['MobileNet',\n",
        "                   'ResNet50',\n",
        "                   'Xception',\n",
        "                   'VGG16',\n",
        "                   'VGG19',\n",
        "                   'InceptionV3',\n",
        "                   'InceptionResNetV2',\n",
        "                   'NASNetMobile',\n",
        "                   'NASNetLarge','DenseNet121','DenseNet169','DenseNet201']  \n",
        "\n",
        "# #Especifique a topologia a ser utilizada.\n",
        "model_name_list = ['DenseNet201']  \n",
        "\n",
        "#Especifique o formato de saida\n",
        "output_fmt = ['txt','npy']    "
      ],
      "execution_count": 0,
      "outputs": []
    },
    {
      "metadata": {
        "id": "VFu27EfmrRpq",
        "colab_type": "text"
      },
      "cell_type": "markdown",
      "source": [
        "**Authenticate and create the PyDrive client**"
      ]
    },
    {
      "metadata": {
        "id": "dvf8DykEPz1C",
        "colab_type": "code",
        "colab": {}
      },
      "cell_type": "code",
      "source": [
        "# Install the PyDrive wrapper & import libraries.\n",
        "# This only needs to be done once per notebook.\n",
        "!pip install -U -q PyDrive\n",
        "from pydrive.auth import GoogleAuth\n",
        "from pydrive.drive import GoogleDrive\n",
        "from google.colab import auth\n",
        "from oauth2client.client import GoogleCredentials\n",
        "\n",
        "# Authenticate and create the PyDrive client.\n",
        "# This only needs to be done once per notebook.\n",
        "auth.authenticate_user()\n",
        "gauth = GoogleAuth()\n",
        "gauth.credentials = GoogleCredentials.get_application_default()\n",
        "drive = GoogleDrive(gauth)"
      ],
      "execution_count": 0,
      "outputs": []
    },
    {
      "metadata": {
        "id": "Q-zVWZ8Zrbdt",
        "colab_type": "text"
      },
      "cell_type": "markdown",
      "source": [
        "**Donwload and Unzip Data.zip**"
      ]
    },
    {
      "metadata": {
        "id": "MaENTbD1dgoK",
        "colab_type": "code",
        "colab": {
          "base_uri": "https://localhost:8080/",
          "height": 156
        },
        "cellView": "code",
        "outputId": "f58e2e22-2c33-4f76-987f-83537c3fea05"
      },
      "cell_type": "code",
      "source": [
        "!rm -r data\n",
        "!pip3 install -q pandas\n",
        "import pandas as pd\n",
        "\n",
        "def load_dataset(folder_id):\n",
        "  \"\"\"Download and unzip dataset\"\"\"   \n",
        "\n",
        "  info = pd.DataFrame(drive.ListFile({'q': \"'\"+folder_id +\"' in parents and trashed=false\" }).GetList())  \n",
        "  zip_id = info['id'].values[0]  \n",
        "  downloaded = drive.CreateFile({'id': zip_id })\n",
        "  \n",
        "  downloaded.GetContentFile('./data.zip')  \n",
        "  !unzip -q data.zip\n",
        "  !rm data.zip\n",
        "  !ls\n",
        "  return True\n",
        "\n",
        "#Load and Unconpress data\n",
        "load_dataset(src_folder_id)"
      ],
      "execution_count": 20,
      "outputs": [
        {
          "output_type": "stream",
          "text": [
            "cuda\r\n",
            "cuda-repo-ubuntu1604-8-0-local-ga2_8.0.61-1_amd64-deb\r\n",
            "cudnn-8.0-linux-x64-v7.1.tgz\r\n",
            "data\r\n",
            "datalab\r\n",
            "libcudnn7_7.1.3.16-1+cuda8.0_amd64.deb\r\n",
            "out\r\n"
          ],
          "name": "stdout"
        },
        {
          "output_type": "execute_result",
          "data": {
            "text/plain": [
              "True"
            ]
          },
          "metadata": {
            "tags": []
          },
          "execution_count": 20
        }
      ]
    },
    {
      "metadata": {
        "id": "LoJV1B0Uro1l",
        "colab_type": "text"
      },
      "cell_type": "markdown",
      "source": [
        "**Sample of files into class/folder 0**"
      ]
    },
    {
      "metadata": {
        "id": "ZMgjfNc0eA2R",
        "colab_type": "code",
        "colab": {
          "base_uri": "https://localhost:8080/",
          "height": 139
        },
        "outputId": "69d592cc-4fa9-457b-b9f4-712c987edef5"
      },
      "cell_type": "code",
      "source": [
        "!ls data/0"
      ],
      "execution_count": 21,
      "outputs": [
        {
          "output_type": "stream",
          "text": [
            "P01_01.JPG  P01_08.JPG\tP01_15.JPG  P01_22.JPG\tP01_29.JPG  P01_36.JPG\r\n",
            "P01_02.JPG  P01_09.JPG\tP01_16.JPG  P01_23.JPG\tP01_30.JPG  P01_37.JPG\r\n",
            "P01_03.JPG  P01_10.JPG\tP01_17.JPG  P01_24.JPG\tP01_31.JPG  P01_38.JPG\r\n",
            "P01_04.JPG  P01_11.JPG\tP01_18.JPG  P01_25.JPG\tP01_32.JPG  P01_39.JPG\r\n",
            "P01_05.JPG  P01_12.JPG\tP01_19.JPG  P01_26.JPG\tP01_33.JPG  P01_40.JPG\r\n",
            "P01_06.JPG  P01_13.JPG\tP01_20.JPG  P01_27.JPG\tP01_34.JPG\r\n",
            "P01_07.JPG  P01_14.JPG\tP01_21.JPG  P01_28.JPG\tP01_35.JPG\r\n"
          ],
          "name": "stdout"
        }
      ]
    },
    {
      "metadata": {
        "id": "P28gIt6kr8GH",
        "colab_type": "text"
      },
      "cell_type": "markdown",
      "source": [
        "**Install Libraries **"
      ]
    },
    {
      "metadata": {
        "id": "HTqjyobxaAIO",
        "colab_type": "code",
        "colab": {}
      },
      "cell_type": "code",
      "source": [
        "# https://keras.io/\n",
        "!pip install -q keras\n",
        "import keras\n",
        "\n",
        "# https://opencv.org/\n",
        "!apt-get -qq install -y libsm6 libxext6 && pip install -q -U opencv-python\n",
        "import cv2\n",
        "\n",
        "from IPython.display import clear_output\n",
        "\n",
        "import os\n",
        "import numpy as np\n",
        "import matplotlib.pyplot as plt\n",
        "import cv2\n",
        "import glob\n",
        "import keras\n",
        "from keras import backend as tf\n",
        "from scipy import misc\n",
        "\n",
        "from keras.applications.vgg16 import VGG16\n",
        "from keras.applications.vgg19 import VGG19\n",
        "from keras.applications.xception import Xception\n",
        "from keras.applications.mobilenet import MobileNet\n",
        "from keras.applications.resnet50 import ResNet50\n",
        "from keras.applications.inception_v3 import InceptionV3\n",
        "from keras.applications.inception_resnet_v2 import InceptionResNetV2\n",
        "from keras.applications.nasnet import NASNetMobile\n",
        "from keras.applications.nasnet import NASNetLarge\n",
        "from keras.applications.densenet import DenseNet121\n",
        "from keras.applications.densenet import DenseNet169\n",
        "from keras.applications.densenet import DenseNet201\n",
        "\n",
        "from keras.applications.inception_resnet_v2 import preprocess_input as ppi_inceptionresnet_v2\n",
        "from keras.applications.vgg16 import preprocess_input as ppi_vgg16\n",
        "from keras.applications.vgg19 import preprocess_input as ppi_vgg19\n",
        "from keras.applications.xception import preprocess_input as ppi_xception\n",
        "from keras.applications.resnet50 import preprocess_input as ppi_resnet50\n",
        "from keras.applications.inception_v3 import preprocess_input as ppi_inception_v3\n",
        "from keras.applications.mobilenet import preprocess_input as ppi_mobilenet\n",
        "from keras.applications.nasnet import preprocess_input as ppi_nasnet\n",
        "from keras.applications.densenet import preprocess_input as ppi_densenet\n",
        "\n",
        "\n",
        "from keras.preprocessing import image\n",
        "from keras.layers import Input\n",
        "\n",
        "np.set_printoptions(threshold=np.nan)\n",
        "keras.backend.backend()\n",
        "\n",
        "import time\n",
        "current_milli_time = lambda: int(round(time.time() * 1000))"
      ],
      "execution_count": 0,
      "outputs": []
    },
    {
      "metadata": {
        "id": "xB3o4BGlPvNh",
        "colab_type": "code",
        "colab": {}
      },
      "cell_type": "code",
      "source": [
        "def buildModel(modelName,pooltype='max'):\n",
        "    if ('VGG16' is modelName):\n",
        "        model = VGG16(weights='imagenet',pooling=pooltype, include_top=False)    \n",
        "    if ('VGG19' is modelName):\n",
        "        model = VGG19(weights='imagenet',pooling=pooltype, include_top=False)\n",
        "    if ('MobileNet' is modelName):\n",
        "        input_tensor = Input(shape=(224,224,3))\n",
        "        model = MobileNet(weights='imagenet',pooling=pooltype,input_shape=(224,224,3),include_top=False)  \n",
        "    if ('ResNet50' is modelName):\n",
        "        model = ResNet50(weights='imagenet',pooling=pooltype, include_top=False)       \n",
        "    if ('InceptionV3' is modelName):\n",
        "        model = InceptionV3(weights='imagenet',pooling=pooltype, include_top=False)\n",
        "    if ('Xception' is modelName):\n",
        "        model = Xception(weights='imagenet',pooling=pooltype, include_top=False)\n",
        "    if ('InceptionResNetV2' is modelName):\n",
        "        model = InceptionResNetV2(weights='imagenet',pooling=pooltype, include_top=False)\n",
        "    if ('NASNetMobile' is modelName):\n",
        "        model = NASNetMobile(weights='imagenet',pooling=pooltype, include_top=False)\n",
        "    if ('NASNetLarge' is modelName):\n",
        "        model = NASNetLarge(weights='imagenet',pooling=pooltype, include_top=False)\n",
        "    if ('DenseNet121' is modelName):\n",
        "        model = DenseNet121(weights='imagenet',pooling=pooltype, include_top=False)\n",
        "    if ('DenseNet169' is modelName):\n",
        "        model = DenseNet169(weights='imagenet',pooling=pooltype, include_top=False)\n",
        "    if ('DenseNet201' is modelName):\n",
        "        model = DenseNet201(weights='imagenet',pooling=pooltype, include_top=False)    \n",
        "                \n",
        "    if (modelName in ['InceptionV3','Xception','InceptionResNetV2']):\n",
        "        targetSize = 299  \n",
        "    elif(modelName in ['NASNetLarge']):\n",
        "        targetSize = 331\n",
        "    else:    \n",
        "        targetSize = 224   \n",
        "    \n",
        "    return model,targetSize\n",
        "  \n",
        "def extractDeepFeatures(file_id,model,modelName,target_size):\n",
        "    \n",
        "    x = load_img(file_id,target_size)\n",
        "    x = image.img_to_array(x)    \n",
        "    x = np.expand_dims(x, axis=0)\n",
        "\n",
        "    if (modelName is 'VGG16'):\n",
        "        x = ppi_vgg16(x)        \n",
        "    if (modelName is 'VGG19'):\n",
        "        x = ppi_vgg19(x)\n",
        "    if (modelName is 'ResNet50'):\n",
        "        x = ppi_resnet50(x)\n",
        "    if (modelName is 'MobileNet'):\n",
        "        x = ppi_mobilenet(x)\n",
        "    if (modelName is 'Xception'):\n",
        "        x = ppi_xception(x) \n",
        "    if (modelName is 'InceptionV3'):\n",
        "        x = ppi_inception_v3(x)\n",
        "    if (modelName is 'InceptionResNetV2'):\n",
        "        x = ppi_inceptionresnet_v2(x)\n",
        "    if (modelName is 'NASNetMobile'):\n",
        "        x = ppi_nasnet(x)\n",
        "    if (modelName is 'NASNetLarge'):\n",
        "        x = ppi_nasnet(x)\n",
        "    if (modelName is 'DenseNet121'):\n",
        "        x = ppi_densenet(x)\n",
        "    if (modelName is 'DenseNet169'):\n",
        "        x = ppi_densenet(x)\n",
        "    if (modelName is 'DenseNet201'):\n",
        "        x = ppi_densenet(x)\n",
        "\n",
        "    timeStart = current_milli_time()\n",
        "    features = model.predict(x).reshape(-1)\n",
        "    process_time = current_milli_time()-timeStart\n",
        "    \n",
        "#     print('Load process: Complete',(current_milli_time()-timeStart)/1000)\n",
        "\n",
        "    return features,process_time\n",
        "\n",
        "def load_img(filepath,target_size):\n",
        "    \"\"\"Load dataset\"\"\"\n",
        "    #LOAD image to be deep extracted         \n",
        "    if (filepath.endswith('jpg') or filepath.endswith('JPG') ):\n",
        "        img = cv2.imread((filepath))\n",
        "    elif (filepath.endswith('txt')):\n",
        "        img = np.loadtxt(filepath).copy()\n",
        "    elif (filepath.endswith('npy')):\n",
        "        img = np.load(filepath).copy()\n",
        "    elif (filepath.endswith('png') or filepath.endswith('PNG')):\n",
        "        img = misc.imread(filepath).copy()\n",
        "    img = cv2.resize(img, (target_size,target_size), interpolation = cv2.INTER_NEAREST)\n",
        "    return img"
      ],
      "execution_count": 0,
      "outputs": []
    },
    {
      "metadata": {
        "id": "-9XDaXkysA5E",
        "colab_type": "text"
      },
      "cell_type": "markdown",
      "source": [
        "**Iterate through each model and each image to extract deep features **"
      ]
    },
    {
      "metadata": {
        "id": "TFPytxpSslxW",
        "colab_type": "code",
        "colab": {}
      },
      "cell_type": "code",
      "source": [
        "def deep_extractor(model_name,numOfClasses,out_folder_id,output_fmt=['npy'],\n",
        "              srcPath='./data',outPath='./out'):\n",
        "  \n",
        "  print(model_name)\n",
        "  cont = 0\n",
        "\n",
        "  # For each class    \n",
        "  model,targetSize = buildModel(model_name)\n",
        "  data = []\n",
        "  process_time_list= []\n",
        "\n",
        "  for fileIdx in range(numOfClasses):\n",
        "    folderPath = srcPath+'/'+str(fileIdx)\n",
        "\n",
        "    # For each sample\n",
        "    for subdir, dirs, files in os.walk(folderPath):\n",
        "      for idx,name in enumerate(files):\n",
        "        filePath = subdir + os.sep + name\n",
        "        cont=cont+1\n",
        "\n",
        "        clear_output()             \n",
        "        print(cont,filePath,model_name) \n",
        "\n",
        "        features,process_time = extractDeepFeatures(filePath,model,model_name,targetSize)\n",
        "        process_time_list.append(process_time)\n",
        "        \n",
        "        features = np.hstack((features,fileIdx))\n",
        "        data.append(features)\n",
        "        \n",
        "  # Creates a folder if don't exist\n",
        "  os.makedirs(outPath+'/', exist_ok=True) \n",
        "  # Saves a txt file w/ deep features\n",
        "  if('txt' in output_fmt):\n",
        "    np.savetxt(outPath+'/'+model_name+'.txt',data,fmt=\"%.8f\")\n",
        "    #Upload txt file to folder (by id)\n",
        "    file = drive.CreateFile({\"parents\": [{\"kind\": \"drive#fileLink\",\n",
        "                                          \"id\": out_folder_id}]})\n",
        "    file.SetContentFile(outPath+'/'+model_name+'.txt')\n",
        "    file.Upload()\n",
        "\n",
        "  #Saves a npy file w/ deep features\n",
        "  if('npy' in output_fmt):\n",
        "    np.save(outPath+'/'+model_name+'.npy',data)      \n",
        "    #Upload npy file to folder (by id)\n",
        "    file = drive.CreateFile({\"parents\": [{\"kind\": \"drive#fileLink\",\n",
        "                                          \"id\": out_folder_id}]})\n",
        "    file.SetContentFile(outPath+'/'+model_name+'.npy')\n",
        "    file.Upload() \n",
        "\n",
        "  #Save process time into a file\n",
        "  np.savetxt(outPath+'/'+model_name+'_time.txt',process_time_list,fmt=\"%d\")\n",
        "  #Upload txt file to folder (by id)\n",
        "  file = drive.CreateFile({\"parents\": [{\"kind\": \"drive#fileLink\",\n",
        "                                        \"id\": out_folder_id}]})\n",
        "  file.SetContentFile(outPath+'/'+model_name+'_time.txt')\n",
        "  file.Upload()\n",
        "  return True\n"
      ],
      "execution_count": 0,
      "outputs": []
    },
    {
      "metadata": {
        "id": "8FyqKlWytM2e",
        "colab_type": "code",
        "colab": {
          "base_uri": "https://localhost:8080/",
          "height": 69
        },
        "outputId": "b7b72bf5-1b6a-480d-e8c1-45e7240c1da3"
      },
      "cell_type": "code",
      "source": [
        "%%time\n",
        "\n",
        "## Especifique o caminho da pasta onde estão as imagens a serem processadas.\n",
        "srcPath = './data'\n",
        "\n",
        "## Especifique o caminho da pasta onde serão armazenadas as caracteristicas extridas.\n",
        "outPath = './out'                         \n",
        "\n",
        "#Encontra o numero de classes do problema.\n",
        "numOfClasses = len(glob.glob('./'+srcPath+'/*'))\n",
        "\n",
        "# For each deep model    \n",
        "for model_name in model_name_list:\n",
        "  deep_extractor(model_name,numOfClasses,out_folder_id,output_fmt,srcPath,outPath)\n",
        "  "
      ],
      "execution_count": 25,
      "outputs": [
        {
          "output_type": "stream",
          "text": [
            "600 ./data/14/P15_39.JPG DenseNet201\n",
            "CPU times: user 5min 43s, sys: 39.4 s, total: 6min 23s\n",
            "Wall time: 6min 17s\n"
          ],
          "name": "stdout"
        }
      ]
    },
    {
      "metadata": {
        "id": "k6i1pJOkXDye",
        "colab_type": "code",
        "colab": {}
      },
      "cell_type": "code",
      "source": [
        "# %%time\n",
        "# ## Especifique o caminho da pasta onde estão as imagens a serem processadas.\n",
        "# srcPath = './data'\n",
        "\n",
        "# ## Especifique o caminho da pasta onde serão armazenadas as caracteristicas extridas.\n",
        "# outPath = './out'                         \n",
        "\n",
        "# #Encontra o numero de classes do problema.\n",
        "# numOfClasses = len(glob.glob('./'+srcPath+'/*'))\n",
        "\n",
        "# # For each deep model    \n",
        "# for model_name in model_name_list:\n",
        "#     print(model_name)\n",
        "#     cont = 0\n",
        "    \n",
        "#     # For each class    \n",
        "#     model,targetSize = buildModel(model_name)\n",
        "#     data = []\n",
        "    \n",
        "#     for fileIdx in range(numOfClasses):\n",
        "#         folderPath = srcPath+'/'+str(fileIdx)\n",
        "# #         print(folderPath)\n",
        "\n",
        "#         # For each sample\n",
        "#         for subdir, dirs, files in os.walk(folderPath):\n",
        "#             for idx,name in enumerate(files):\n",
        "#                 filePath = subdir + os.sep + name\n",
        "#                 cont=cont+1\n",
        "                \n",
        "#                 clear_output()             \n",
        "#                 print(cont,filePath,model_name)    \n",
        "                \n",
        "#                 features = extractDeepFeatures(filePath,model,model_name,targetSize)\n",
        "#                 features = np.hstack((features,fileIdx))\n",
        "#                 data.append(features)\n",
        "\n",
        "#     # Creates a folder if don't exist\n",
        "#     os.makedirs(outPath+'/', exist_ok=True) \n",
        "#     # Saves a txt file w/ deep features\n",
        "#     if('txt' in output_fmt):\n",
        "#       np.savetxt(outPath+'/'+model_name+'.txt',data,fmt=\"%.8f\")\n",
        "#       #Upload txt file to folder (by id)\n",
        "#       file = drive.CreateFile({\"parents\": [{\"kind\": \"drive#fileLink\", \"id\": out_folder_id}]})\n",
        "#       file.SetContentFile(outPath+'/'+model_name+'.txt')\n",
        "#       file.Upload()\n",
        "      \n",
        "#     #Saves a npy file w/ deep features\n",
        "#     if('npy' in output_fmt):\n",
        "#       np.save(outPath+'/'+model_name+'.npy',data)      \n",
        "#       #Upload npy file to folder (by id)\n",
        "#       file = drive.CreateFile({\"parents\": [{\"kind\": \"drive#fileLink\", \"id\": out_folder_id}]})\n",
        "#       file.SetContentFile(outPath+'/'+model_name+'.npy')\n",
        "#       file.Upload() \n",
        "   \n",
        "# #     Delete Files    \n",
        "# #     filepath = outPath+'/'+model_name+'.txt\n",
        "# #     !rm filepath\n",
        "# #     filepath = outPath+'/'+model_name+'.npy'\n",
        "# #     !rm filepath"
      ],
      "execution_count": 0,
      "outputs": []
    },
    {
      "metadata": {
        "id": "9DPPdo05tXE9",
        "colab_type": "code",
        "colab": {
          "base_uri": "https://localhost:8080/",
          "height": 34
        },
        "outputId": "07e231e6-b2e5-4b46-8a21-cc85c40db156"
      },
      "cell_type": "code",
      "source": [
        "print('Done')"
      ],
      "execution_count": 0,
      "outputs": [
        {
          "output_type": "stream",
          "text": [
            "Done\n"
          ],
          "name": "stdout"
        }
      ]
    }
  ]
}